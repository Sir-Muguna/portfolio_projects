{
 "cells": [
  {
   "cell_type": "code",
   "execution_count": 29,
   "metadata": {},
   "outputs": [],
   "source": [
    "# Import required packages for scraping.\n",
    "import pandas as pd\n",
    "import requests\n",
    "from bs4 import BeautifulSoup as soup"
   ]
  },
  {
   "cell_type": "code",
   "execution_count": 30,
   "metadata": {},
   "outputs": [
    {
     "data": {
      "text/plain": [
       "200"
      ]
     },
     "execution_count": 30,
     "metadata": {},
     "output_type": "execute_result"
    }
   ],
   "source": [
    "page = requests.get('https://www.kugli.com/Real_Estate/country/United_States-US/')\n",
    "page.status_code "
   ]
  },
  {
   "cell_type": "code",
   "execution_count": 36,
   "metadata": {},
   "outputs": [],
   "source": [
    "bsobj = soup(page.content, 'lxml')"
   ]
  },
  {
   "cell_type": "code",
   "execution_count": 49,
   "metadata": {},
   "outputs": [
    {
     "name": "stdout",
     "output_type": "stream",
     "text": [
      "[['Type', 'Details', 'Photo'], ['USD 850.00', 'Posted: 10 hour(s), 23 min(s) ago', '', ' 4 bd3 ba2,000 sqft 1119 Kenwood Dr, San Angelo, TX 76903... More Houses for Rent AdsReady to start the new year in a gorgeous new home? Come take a look at this large four bedroom, three bath Santa Rita house! With 2 living areas and large outdoor patio area, this home is perfect for entertaining!', 'Location: San Angelo, United States']]\n"
     ]
    }
   ],
   "source": [
    "for row in bsobj.findAll('tbody'):\n",
    "    cols = row.findChildren(recursive = False)\n",
    "    cols = [element.text.strip().split('\\n') for element in cols]\n",
    "\n",
    "print(cols[:2])"
   ]
  },
  {
   "cell_type": "code",
   "execution_count": 33,
   "metadata": {},
   "outputs": [],
   "source": [
    "col = []\n",
    "for link in links:\n",
    "    pages = requests.get(link)\n",
    "    bs = soup(pages.content, 'lxml')\n",
    "\n",
    "    for row in bs.findAll('tbody'):\n",
    "        cols = row.findChildren(recursive = False)\n",
    "        for element in cols:\n",
    "            a = element.text.strip().split('\\n')\n",
    "            col.append(a)"
   ]
  },
  {
   "cell_type": "code",
   "execution_count": 34,
   "metadata": {},
   "outputs": [
    {
     "data": {
      "text/html": [
       "<div>\n",
       "<style scoped>\n",
       "    .dataframe tbody tr th:only-of-type {\n",
       "        vertical-align: middle;\n",
       "    }\n",
       "\n",
       "    .dataframe tbody tr th {\n",
       "        vertical-align: top;\n",
       "    }\n",
       "\n",
       "    .dataframe thead th {\n",
       "        text-align: right;\n",
       "    }\n",
       "</style>\n",
       "<table border=\"1\" class=\"dataframe\">\n",
       "  <thead>\n",
       "    <tr style=\"text-align: right;\">\n",
       "      <th></th>\n",
       "      <th>price</th>\n",
       "      <th>time_posted</th>\n",
       "      <th>description</th>\n",
       "      <th>location</th>\n",
       "    </tr>\n",
       "  </thead>\n",
       "  <tbody>\n",
       "    <tr>\n",
       "      <th>0</th>\n",
       "      <td>USD 850.00</td>\n",
       "      <td>Posted: 10 hour(s), 23 min(s) ago</td>\n",
       "      <td>4 bd3 ba2,000 sqft 1119 Kenwood Dr, San Angel...</td>\n",
       "      <td>Location: San Angelo, United States</td>\n",
       "    </tr>\n",
       "    <tr>\n",
       "      <th>2</th>\n",
       "      <td>USD 750.00</td>\n",
       "      <td>Posted: 10 hour(s), 25 min(s) ago</td>\n",
       "      <td>3 bd2 ba1,300 sqft 21117 County Road 3124, Ch...</td>\n",
       "      <td>Location: Chandler, United States</td>\n",
       "    </tr>\n",
       "    <tr>\n",
       "      <th>4</th>\n",
       "      <td>USD 850.00</td>\n",
       "      <td>Posted: 10 hour(s), 29 min(s) ago</td>\n",
       "      <td>3 bd2 ba1,528 sqft 11831 Ironstone Ct, Housto...</td>\n",
       "      <td>Location: Houston, United States</td>\n",
       "    </tr>\n",
       "    <tr>\n",
       "      <th>7</th>\n",
       "      <td>USD 950.00</td>\n",
       "      <td>Posted: 10 hour(s), 32 min(s) ago</td>\n",
       "      <td>3 bd2 ba1,121 sqft 709 Center Ave, Kerrville,...</td>\n",
       "      <td>Location: Kerrville, United States</td>\n",
       "    </tr>\n",
       "    <tr>\n",
       "      <th>9</th>\n",
       "      <td>USD 450.00</td>\n",
       "      <td>Posted: 10 hour(s), 34 min(s) ago</td>\n",
       "      <td>1 bd1 ba500 sqft 722 Avenue C, Port Neches, T...</td>\n",
       "      <td>Location: Port Neches, United States</td>\n",
       "    </tr>\n",
       "    <tr>\n",
       "      <th>...</th>\n",
       "      <td>...</td>\n",
       "      <td>...</td>\n",
       "      <td>...</td>\n",
       "      <td>...</td>\n",
       "    </tr>\n",
       "    <tr>\n",
       "      <th>209</th>\n",
       "      <td>USD 2,000.00</td>\n",
       "      <td>Posted: 21 hour(s), 01 min(s) ago</td>\n",
       "      <td>3 bd2 ba1,350 sqft 4643 Pimenta Ave, Lakewood...</td>\n",
       "      <td>Location: Lakewood, United States</td>\n",
       "    </tr>\n",
       "    <tr>\n",
       "      <th>211</th>\n",
       "      <td>USD 900.00</td>\n",
       "      <td>Posted: 21 hour(s), 04 min(s) ago</td>\n",
       "      <td>3 bd2 ba1,270 sqft 6185 Chia Ave, Twentynine ...</td>\n",
       "      <td>Location: Twentynine Palms, United States</td>\n",
       "    </tr>\n",
       "    <tr>\n",
       "      <th>213</th>\n",
       "      <td>USD 850.00</td>\n",
       "      <td>Posted: 21 hour(s), 08 min(s) ago</td>\n",
       "      <td>2 bd1 ba-- sqft 12450 Adams St, Yucaipa, CA 9...</td>\n",
       "      <td>Location: Yucaipa, United States</td>\n",
       "    </tr>\n",
       "    <tr>\n",
       "      <th>215</th>\n",
       "      <td>USD 1,500.00</td>\n",
       "      <td>Posted: 21 hour(s), 12 min(s) ago</td>\n",
       "      <td>4 bd2 ba1,678 sqft 506 Trumpeter Dr, Suisun C...</td>\n",
       "      <td>Location: Suisun City, United States</td>\n",
       "    </tr>\n",
       "    <tr>\n",
       "      <th>217</th>\n",
       "      <td>USD 1,400.00</td>\n",
       "      <td>Posted: 21 hour(s), 24 min(s) ago</td>\n",
       "      <td>2 bd1 ba858 sqft 5411 Lowell St, Sacramento, ...</td>\n",
       "      <td>Location: Sacramento, United States</td>\n",
       "    </tr>\n",
       "  </tbody>\n",
       "</table>\n",
       "<p>100 rows × 4 columns</p>\n",
       "</div>"
      ],
      "text/plain": [
       "            price                        time_posted  \\\n",
       "0      USD 850.00  Posted: 10 hour(s), 23 min(s) ago   \n",
       "2      USD 750.00  Posted: 10 hour(s), 25 min(s) ago   \n",
       "4      USD 850.00  Posted: 10 hour(s), 29 min(s) ago   \n",
       "7      USD 950.00  Posted: 10 hour(s), 32 min(s) ago   \n",
       "9      USD 450.00  Posted: 10 hour(s), 34 min(s) ago   \n",
       "..            ...                                ...   \n",
       "209  USD 2,000.00  Posted: 21 hour(s), 01 min(s) ago   \n",
       "211    USD 900.00  Posted: 21 hour(s), 04 min(s) ago   \n",
       "213    USD 850.00  Posted: 21 hour(s), 08 min(s) ago   \n",
       "215  USD 1,500.00  Posted: 21 hour(s), 12 min(s) ago   \n",
       "217  USD 1,400.00  Posted: 21 hour(s), 24 min(s) ago   \n",
       "\n",
       "                                           description  \\\n",
       "0     4 bd3 ba2,000 sqft 1119 Kenwood Dr, San Angel...   \n",
       "2     3 bd2 ba1,300 sqft 21117 County Road 3124, Ch...   \n",
       "4     3 bd2 ba1,528 sqft 11831 Ironstone Ct, Housto...   \n",
       "7     3 bd2 ba1,121 sqft 709 Center Ave, Kerrville,...   \n",
       "9     1 bd1 ba500 sqft 722 Avenue C, Port Neches, T...   \n",
       "..                                                 ...   \n",
       "209   3 bd2 ba1,350 sqft 4643 Pimenta Ave, Lakewood...   \n",
       "211   3 bd2 ba1,270 sqft 6185 Chia Ave, Twentynine ...   \n",
       "213   2 bd1 ba-- sqft 12450 Adams St, Yucaipa, CA 9...   \n",
       "215   4 bd2 ba1,678 sqft 506 Trumpeter Dr, Suisun C...   \n",
       "217   2 bd1 ba858 sqft 5411 Lowell St, Sacramento, ...   \n",
       "\n",
       "                                      location  \n",
       "0          Location: San Angelo, United States  \n",
       "2            Location: Chandler, United States  \n",
       "4             Location: Houston, United States  \n",
       "7           Location: Kerrville, United States  \n",
       "9         Location: Port Neches, United States  \n",
       "..                                         ...  \n",
       "209          Location: Lakewood, United States  \n",
       "211  Location: Twentynine Palms, United States  \n",
       "213           Location: Yucaipa, United States  \n",
       "215       Location: Suisun City, United States  \n",
       "217        Location: Sacramento, United States  \n",
       "\n",
       "[100 rows x 4 columns]"
      ]
     },
     "execution_count": 34,
     "metadata": {},
     "output_type": "execute_result"
    }
   ],
   "source": [
    "df = pd.DataFrame( data = col[1:], columns = ['price', 'time_posted', 'd', 'description', 'location']).dropna()\n",
    "df.drop(labels=['d'],axis=1)"
   ]
  },
  {
   "cell_type": "code",
   "execution_count": 35,
   "metadata": {},
   "outputs": [],
   "source": [
    "file_path ='C:/Users/Sir Muguna/OneDrive/Documents/Main_Projects/Portfolio_Projects/Data_Engineering/zoopla_webscrap/real_estate_scraped_data.csv'\n",
    "df.to_csv(file_path, index=False)"
   ]
  },
  {
   "cell_type": "code",
   "execution_count": 43,
   "metadata": {},
   "outputs": [
    {
     "name": "stdout",
     "output_type": "stream",
     "text": [
      "0       4 bd3 ba2,000 sqft 1119 Kenwood Dr, San Angel...\n",
      "2       3 bd2 ba1,300 sqft 21117 County Road 3124, Ch...\n",
      "4       3 bd2 ba1,528 sqft 11831 Ironstone Ct, Housto...\n",
      "7       3 bd2 ba1,121 sqft 709 Center Ave, Kerrville,...\n",
      "9       1 bd1 ba500 sqft 722 Avenue C, Port Neches, T...\n",
      "                             ...                        \n",
      "209     3 bd2 ba1,350 sqft 4643 Pimenta Ave, Lakewood...\n",
      "211     3 bd2 ba1,270 sqft 6185 Chia Ave, Twentynine ...\n",
      "213     2 bd1 ba-- sqft 12450 Adams St, Yucaipa, CA 9...\n",
      "215     4 bd2 ba1,678 sqft 506 Trumpeter Dr, Suisun C...\n",
      "217     2 bd1 ba858 sqft 5411 Lowell St, Sacramento, ...\n",
      "Name: description, Length: 100, dtype: object\n"
     ]
    }
   ],
   "source": [
    "print(df['description'])"
   ]
  }
 ],
 "metadata": {
  "kernelspec": {
   "display_name": "Python 3",
   "language": "python",
   "name": "python3"
  },
  "language_info": {
   "codemirror_mode": {
    "name": "ipython",
    "version": 3
   },
   "file_extension": ".py",
   "mimetype": "text/x-python",
   "name": "python",
   "nbconvert_exporter": "python",
   "pygments_lexer": "ipython3",
   "version": "3.11.2"
  },
  "orig_nbformat": 4
 },
 "nbformat": 4,
 "nbformat_minor": 2
}
