{
 "cells": [
  {
   "cell_type": "code",
   "execution_count": 1,
   "metadata": {},
   "outputs": [],
   "source": [
    "import mmap\n",
    "import configparser\n",
    "import os\n",
    "import time\n",
    "import re\n",
    "\n",
    "# Load configuration settings from config.txt\n",
    "config = configparser.ConfigParser()\n",
    "\n",
    "# Get the current working directory\n",
    "script_dir = os.getcwd()\n",
    "\n",
    "# Build the path to config.txt relative to the current working directory\n",
    "config_path = os.path.join(script_dir, '..', 'config.txt')\n",
    "config.read(config_path)\n",
    "\n",
    "# Extract the file path from the config file\n",
    "file_path = config.get('DEFAULT', 'linuxpath')"
   ]
  },
  {
   "cell_type": "code",
   "execution_count": 2,
   "metadata": {},
   "outputs": [
    {
     "name": "stdout",
     "output_type": "stream",
     "text": [
      "Found 13;0;21;16;0;18;3;0; using Memory-Mapped Search.\n",
      "Execution time: 0.00020956993103027344 seconds\n"
     ]
    },
    {
     "data": {
      "text/plain": [
       "True"
      ]
     },
     "execution_count": 2,
     "metadata": {},
     "output_type": "execute_result"
    }
   ],
   "source": [
    "# Memory-Mapped (mmap) Search Implementation\n",
    "def mmap_search(file_path: str, search_string: str) -> bool:\n",
    "    \"\"\"Memory-mapped search for a string in a file.\"\"\"\n",
    "    start_time = time.time()\n",
    "    with open(file_path, 'r') as file:\n",
    "        with mmap.mmap(file.fileno(), length=0, access=mmap.ACCESS_READ) as mmap_obj:\n",
    "            if mmap_obj.find(search_string.encode()) != -1:\n",
    "                print(f\"Found {search_string} using Memory-Mapped Search.\")\n",
    "                print(f\"Execution time: {time.time() - start_time} seconds\")\n",
    "                return True\n",
    "    print(f\"{search_string} not found.\")\n",
    "    print(f\"Execution time: {time.time() - start_time} seconds\")\n",
    "    return False\n",
    "\n",
    "# Example usage in a Jupyter notebook:\n",
    "search_string = input(\"Enter the string to search: \")\n",
    "mmap_search(file_path, search_string)\n"
   ]
  },
  {
   "cell_type": "code",
   "execution_count": 3,
   "metadata": {},
   "outputs": [
    {
     "name": "stdout",
     "output_type": "stream",
     "text": [
      "Found 13;0;21;16;0;18;3;0; using Boyer-Moore Search.\n",
      "Execution time: 0.012674570083618164 seconds\n"
     ]
    }
   ],
   "source": [
    "# Boyer-Moore Search Implementation\n",
    "def boyer_moore_search(file_path: str, search_string: str) -> bool:\n",
    "    \"\"\"Boyer-Moore search for a string in a file.\"\"\"\n",
    "    start_time = time.time()\n",
    "    with open(file_path, 'r') as file:\n",
    "        lines = file.read()\n",
    "        index = lines.find(search_string)\n",
    "        if index != -1:\n",
    "            print(f\"Found {search_string} using Boyer-Moore Search.\")\n",
    "            print(f\"Execution time: {time.time() - start_time} seconds\")\n",
    "            return True\n",
    "    print(f\"{search_string} not found.\")\n",
    "    print(f\"Execution time: {time.time() - start_time} seconds\")\n",
    "    return False\n",
    "\n",
    "if __name__ == \"__main__\":\n",
    "    search_string = input(\"Enter the string to search: \")\n",
    "    boyer_moore_search(file_path, search_string)"
   ]
  },
  {
   "cell_type": "code",
   "execution_count": 4,
   "metadata": {},
   "outputs": [
    {
     "name": "stdout",
     "output_type": "stream",
     "text": [
      "13;0;21;16;0;18;3;0; not found.\n",
      "Execution time: 0.01782989501953125 seconds\n"
     ]
    }
   ],
   "source": [
    "# Binary Search Implementation\n",
    "def binary_search(file_path: str, search_string: str) -> bool:\n",
    "    \"\"\"Binary search for a string in a sorted file.\"\"\"\n",
    "    start_time = time.time()\n",
    "    with open(file_path, 'r') as file:\n",
    "        lines = file.readlines()\n",
    "    \n",
    "    left, right = 0, len(lines) - 1\n",
    "    while left <= right:\n",
    "        mid = (left + right) // 2\n",
    "        if search_string == lines[mid].strip():\n",
    "            print(f\"Found {search_string} using Binary Search.\")\n",
    "            print(f\"Execution time: {time.time() - start_time} seconds\")\n",
    "            return True\n",
    "        elif search_string < lines[mid].strip():\n",
    "            right = mid - 1\n",
    "        else:\n",
    "            left = mid + 1\n",
    "    print(f\"{search_string} not found.\")\n",
    "    print(f\"Execution time: {time.time() - start_time} seconds\")\n",
    "    return False\n",
    "\n",
    "if __name__ == \"__main__\":\n",
    "    search_string = input(\"Enter the string to search: \")\n",
    "    binary_search(file_path, search_string)"
   ]
  },
  {
   "cell_type": "code",
   "execution_count": 5,
   "metadata": {},
   "outputs": [
    {
     "name": "stdout",
     "output_type": "stream",
     "text": [
      "Pattern 13;0;21;16;0;18;3;0; found using Regex Search.\n",
      "Execution time: 0.00020885467529296875 seconds\n"
     ]
    }
   ],
   "source": [
    "# Regular Expression (Regex) Search Implementation\n",
    "def regex_search(file_path: str, pattern: str) -> bool:\n",
    "    \"\"\"Search for a regex pattern in a file.\"\"\"\n",
    "    start_time = time.time()\n",
    "    compiled_pattern = re.compile(pattern)\n",
    "    with open(file_path, 'r') as file:\n",
    "        for line in file:\n",
    "            if compiled_pattern.search(line):\n",
    "                print(f\"Pattern {pattern} found using Regex Search.\")\n",
    "                print(f\"Execution time: {time.time() - start_time} seconds\")\n",
    "                return True\n",
    "    print(f\"Pattern {pattern} not found.\")\n",
    "    print(f\"Execution time: {time.time() - start_time} seconds\")\n",
    "    return False\n",
    "\n",
    "if __name__ == \"__main__\":\n",
    "    search_string = input(\"Enter the string to search: \")\n",
    "    regex_search(file_path, search_string)"
   ]
  },
  {
   "cell_type": "code",
   "execution_count": 6,
   "metadata": {},
   "outputs": [
    {
     "name": "stdout",
     "output_type": "stream",
     "text": [
      "Found '13;0;21;16;0;18;3;0;' using Linear Search.\n",
      "Execution time: 0.000254 seconds\n"
     ]
    }
   ],
   "source": [
    "# Linear Search Implementation\n",
    "def linear_search(file_path: str, search_string: str) -> bool:\n",
    "    \"\"\"Linear search for a string in a file.\"\"\"\n",
    "    start_time = time.time()\n",
    "    with open(file_path, 'r') as file:\n",
    "        for line in file:\n",
    "            if search_string in line:\n",
    "                print(f\"Found '{search_string}' using Linear Search.\")\n",
    "                print(f\"Execution time: {time.time() - start_time:.6f} seconds\")\n",
    "                return True\n",
    "    print(f\"'{search_string}' not found.\")\n",
    "    print(f\"Execution time: {time.time() - start_time:.6f} seconds\")\n",
    "    return False\n",
    "\n",
    "if __name__ == \"__main__\":\n",
    "    search_string = input(\"Enter the string to search: \")\n",
    "    linear_search(file_path, search_string)\n"
   ]
  },
  {
   "cell_type": "code",
   "execution_count": null,
   "metadata": {},
   "outputs": [],
   "source": []
  }
 ],
 "metadata": {
  "kernelspec": {
   "display_name": "Python 3",
   "language": "python",
   "name": "python3"
  },
  "language_info": {
   "codemirror_mode": {
    "name": "ipython",
    "version": 3
   },
   "file_extension": ".py",
   "mimetype": "text/x-python",
   "name": "python",
   "nbconvert_exporter": "python",
   "pygments_lexer": "ipython3",
   "version": "3.11.9"
  }
 },
 "nbformat": 4,
 "nbformat_minor": 2
}
